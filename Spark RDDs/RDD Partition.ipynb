{
 "cells": [
  {
   "cell_type": "code",
   "execution_count": 2,
   "id": "26496e80",
   "metadata": {},
   "outputs": [],
   "source": [
    "from pyspark import SparkConf, SparkContext\n",
    "conf = SparkConf().setAppName('Partition')\n",
    "sc = SparkContext.getOrCreate(conf=conf)\n"
   ]
  },
  {
   "cell_type": "code",
   "execution_count": 20,
   "id": "f41d2775",
   "metadata": {},
   "outputs": [],
   "source": [
    "rdd = sc.textFile('D:\\Pyspark Training\\PySpark\\Spark RDDs\\Word Count Quiz.txt')\n",
    "rdd = rdd.repartition(5)\n",
    "rdd2 = rdd2.flatMap(lambda x : x.split(''))\n",
    "rdd3 = rdd2.map(lambda x :(x,len(x)))"
   ]
  },
  {
   "cell_type": "code",
   "execution_count": 12,
   "id": "f7946e12",
   "metadata": {
    "scrolled": true
   },
   "outputs": [],
   "source": [
    "# rdd.collect()\n",
    "rdd3.getNumPartitions()"
   ]
  },
  {
   "cell_type": "code",
   "execution_count": 26,
   "id": "f698bc93",
   "metadata": {},
   "outputs": [],
   "source": [
    "# rdd3.saveAsTextFile('D:Pyspark/Training/PySpark/Spark RDDs/Output/partition')"
   ]
  },
  {
   "cell_type": "markdown",
   "id": "46098dc1",
   "metadata": {},
   "source": [
    "# coalesce()"
   ]
  },
  {
   "cell_type": "code",
   "execution_count": 29,
   "id": "97127fd6",
   "metadata": {},
   "outputs": [],
   "source": [
    "rdd = sc.textFile('D:\\Pyspark Training\\PySpark\\Spark RDDs\\Word Count Quiz.txt')\n",
    "rdd = rdd.repartition(5)\n",
    "rdd2 = rdd2.flatMap(lambda x : x.split(''))\n",
    "rdd3 = rdd2.map(lambda x :(x,len(x)))\n",
    "rdd4 = rdd.repartition(2)\n"
   ]
  },
  {
   "cell_type": "code",
   "execution_count": 30,
   "id": "0f0779c3",
   "metadata": {},
   "outputs": [
    {
     "data": {
      "text/plain": [
       "2"
      ]
     },
     "execution_count": 30,
     "metadata": {},
     "output_type": "execute_result"
    }
   ],
   "source": [
    "rdd4.getNumPartitions()"
   ]
  },
  {
   "cell_type": "code",
   "execution_count": null,
   "id": "2a48d5a4",
   "metadata": {},
   "outputs": [],
   "source": []
  }
 ],
 "metadata": {
  "kernelspec": {
   "display_name": "Python 3 (ipykernel)",
   "language": "python",
   "name": "python3"
  },
  "language_info": {
   "codemirror_mode": {
    "name": "ipython",
    "version": 3
   },
   "file_extension": ".py",
   "mimetype": "text/x-python",
   "name": "python",
   "nbconvert_exporter": "python",
   "pygments_lexer": "ipython3",
   "version": "3.9.12"
  }
 },
 "nbformat": 4,
 "nbformat_minor": 5
}
